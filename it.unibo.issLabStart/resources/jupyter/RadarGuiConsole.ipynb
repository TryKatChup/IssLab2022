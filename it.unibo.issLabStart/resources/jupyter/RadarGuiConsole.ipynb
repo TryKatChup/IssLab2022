{
 "cells": [
  {
   "cell_type": "markdown",
   "metadata": {
    "slideshow": {
     "slide_type": "subslide"
    }
   },
   "source": [
    "# Console for RadarGui on TCP"
   ]
  },
  {
   "cell_type": "code",
   "execution_count": 1,
   "metadata": {},
   "outputs": [
    {
     "name": "stdout",
     "output_type": "stream",
     "text": [
      "STARTING ... \n",
      "CONNECTED WITH  ('localhost', 8080)\n",
      "console  STARTS :\n",
      "22\n",
      "console  D= : 22\n",
      "{ \"distance\" : 22 , \"angle\" : 60 }\n",
      "forward  { \"distance\" : 22 , \"angle\" : 60 }\n",
      "22\n",
      "{ \"distance\" : 22 , \"angle\" : 60 }\n",
      "forward  { \"distance\" : 22 , \"angle\" : 60 }\n",
      "55\n",
      "{ \"distance\" : 55 , \"angle\" : 60 }\n",
      "forward  { \"distance\" : 55 , \"angle\" : 60 }\n",
      "77\n",
      "{ \"distance\" : 77 , \"angle\" : 60 }\n",
      "forward  { \"distance\" : 77 , \"angle\" : 60 }\n",
      "88\n",
      "{ \"distance\" : 88 , \"angle\" : 60 }\n",
      "forward  { \"distance\" : 88 , \"angle\" : 60 }\n",
      "33\n",
      "{ \"distance\" : 33 , \"angle\" : 60 }\n",
      "forward  { \"distance\" : 33 , \"angle\" : 60 }\n",
      "44\n",
      "{ \"distance\" : 44 , \"angle\" : 60 }\n",
      "forward  { \"distance\" : 44 , \"angle\" : 60 }\n",
      "55\n",
      "{ \"distance\" : 55 , \"angle\" : 60 }\n",
      "forward  { \"distance\" : 55 , \"angle\" : 60 }\n",
      "66\n",
      "{ \"distance\" : 66 , \"angle\" : 60 }\n",
      "forward  { \"distance\" : 66 , \"angle\" : 60 }\n",
      "10\n",
      "{ \"distance\" : 10 , \"angle\" : 60 }\n",
      "forward  { \"distance\" : 10 , \"angle\" : 60 }\n",
      "20\n",
      "{ \"distance\" : 20 , \"angle\" : 60 }\n",
      "forward  { \"distance\" : 20 , \"angle\" : 60 }\n",
      "30\n",
      "{ \"distance\" : 30 , \"angle\" : 60 }\n",
      "forward  { \"distance\" : 30 , \"angle\" : 60 }\n",
      "40\n",
      "{ \"distance\" : 40 , \"angle\" : 60 }\n",
      "forward  { \"distance\" : 40 , \"angle\" : 60 }\n",
      "50\n",
      "{ \"distance\" : 50 , \"angle\" : 60 }\n",
      "forward  { \"distance\" : 50 , \"angle\" : 60 }\n",
      "70\n",
      "{ \"distance\" : 70 , \"angle\" : 60 }\n",
      "forward  { \"distance\" : 70 , \"angle\" : 60 }\n",
      "80\n",
      "{ \"distance\" : 80 , \"angle\" : 60 }\n",
      "forward  { \"distance\" : 80 , \"angle\" : 60 }\n",
      "q\n"
     ]
    }
   ],
   "source": [
    "##############################################################\n",
    "# TCP-Send a msg to the RadarGui on 8080\n",
    "##############################################################\n",
    "import socket\n",
    "import time\n",
    "\n",
    "hostAdress     = 'localhost'\n",
    "port           = 8080\n",
    "msgTemplate    = msg= \"{ \\\"distance\\\" : D , \\\"angle\\\" : 60 }\" \n",
    "\n",
    "sock          = socket.socket(socket.AF_INET, socket.SOCK_STREAM)\n",
    "\n",
    "def connect(port) :\n",
    "    server_address = (hostAdress, port)\n",
    "    sock.connect(server_address)    \n",
    "    print(\"CONNECTED WITH \", server_address)\n",
    "\n",
    "def terminate() :\n",
    "    sock.close()    #qak infrastr receives a msg null\n",
    "    print(\"BYE\")\n",
    "\n",
    "def forward( message ) :\n",
    "    print(\"forward \", message)\n",
    "    msg = message + \"\\n\"\n",
    "    byt=msg.encode()    #required in Python3\n",
    "    sock.send(byt)\n",
    "\n",
    "def console() :  \n",
    "    print(\"console  STARTS :\"   )\n",
    "    cmd =  str( input() )\n",
    "    print(\"console  D= :\" , cmd  )\n",
    "    while( cmd != \"q\"  ) :\n",
    "        msg = msgTemplate.replace(\"D\", cmd)\n",
    "        print( msg )\n",
    "        forward( msg )\n",
    "        cmd =  str(input())\n",
    "     \n",
    "##################################################\n",
    "print(\"STARTING ... \")\n",
    "connect(port)\n",
    "console()"
   ]
  }
 ],
 "metadata": {
  "kernelspec": {
   "display_name": "Python 3",
   "language": "python",
   "name": "python3"
  },
  "language_info": {
   "codemirror_mode": {
    "name": "ipython",
    "version": 3
   },
   "file_extension": ".py",
   "mimetype": "text/x-python",
   "name": "python",
   "nbconvert_exporter": "python",
   "pygments_lexer": "ipython3",
   "version": "3.8.8"
  }
 },
 "nbformat": 4,
 "nbformat_minor": 2
}
