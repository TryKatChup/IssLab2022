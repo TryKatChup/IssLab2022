{
 "cells": [
  {
   "cell_type": "markdown",
   "metadata": {
    "slideshow": {
     "slide_type": "subslide"
    }
   },
   "source": [
    "# Console for RadarGui on TCP"
   ]
  },
  {
   "cell_type": "code",
   "execution_count": 1,
   "metadata": {},
   "outputs": [
    {
     "name": "stdout",
     "output_type": "stream",
     "text": [
      "STARTING ... \n",
      "CONNECTED WITH  ('localhost', 8080)\n",
      "console  STARTS :\n",
      "50\n",
      "console  D= : 50\n",
      "{ \"distance\" : 50 , \"angle\" : 90 }\n",
      "forward  { \"distance\" : 50 , \"angle\" : 90 }\n",
      "30\n",
      "{ \"distance\" : 30 , \"angle\" : 90 }\n",
      "forward  { \"distance\" : 30 , \"angle\" : 90 }\n",
      "70\n",
      "{ \"distance\" : 70 , \"angle\" : 90 }\n",
      "forward  { \"distance\" : 70 , \"angle\" : 90 }\n",
      "q\n"
     ]
    }
   ],
   "source": [
    "##############################################################\n",
    "# TCP-Send a msg to the RadarGui on 8080\n",
    "##############################################################\n",
    "import socket\n",
    "import time\n",
    "\n",
    "hostAdress     = 'localhost'\n",
    "port           = 8080\n",
    "msgTemplate    = msg= \"{ \\\"distance\\\" : D , \\\"angle\\\" : 60 }\" \n",
    "\n",
    "sock          = socket.socket(socket.AF_INET, socket.SOCK_STREAM)\n",
    "\n",
    "def connect(port) :\n",
    "    server_address = (hostAdress, port)\n",
    "    sock.connect(server_address)    \n",
    "    print(\"CONNECTED WITH \", server_address)\n",
    "\n",
    "def terminate() :\n",
    "    sock.close()    #qak infrastr receives a msg null\n",
    "    print(\"BYE\")\n",
    "\n",
    "def forward( message ) :\n",
    "    print(\"forward \", message)\n",
    "    msg = message + \"\\n\"\n",
    "    byt=msg.encode()    #required in Python3\n",
    "    sock.send(byt)\n",
    "\n",
    "def console() :  \n",
    "    print(\"console  STARTS :\"   )\n",
    "    cmd =  str( input() )\n",
    "    print(\"console  D= :\" , cmd  )\n",
    "    while( cmd != \"q\"  ) :\n",
    "        msg = msgTemplate.replace(\"D\", cmd)\n",
    "        print( msg )\n",
    "        forward( msg )\n",
    "        cmd =  str(input())\n",
    "     \n",
    "##################################################\n",
    "print(\"STARTING ... \")\n",
    "connect(port)\n",
    "console()"
   ]
  },
  {
   "cell_type": "code",
   "execution_count": null,
   "metadata": {},
   "outputs": [],
   "source": []
  }
 ],
 "metadata": {
  "kernelspec": {
   "display_name": "Python 3",
   "language": "python",
   "name": "python3"
  },
  "language_info": {
   "codemirror_mode": {
    "name": "ipython",
    "version": 3
   },
   "file_extension": ".py",
   "mimetype": "text/x-python",
   "name": "python",
   "nbconvert_exporter": "python",
   "pygments_lexer": "ipython3",
   "version": "3.8.8"
  }
 },
 "nbformat": 4,
 "nbformat_minor": 2
}
